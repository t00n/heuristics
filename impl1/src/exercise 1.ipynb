{
 "cells": [
  {
   "cell_type": "code",
   "execution_count": 1,
   "metadata": {
    "collapsed": true
   },
   "outputs": [],
   "source": [
    "import subprocess"
   ]
  },
  {
   "cell_type": "code",
   "execution_count": 28,
   "metadata": {
    "collapsed": false
   },
   "outputs": [],
   "source": [
    "def run_fssp(instance, init=0, improvement=0, neighbourhood=0):\n",
    "    init = \"--random-init\" if not init else \"--srz\"\n",
    "    improvement = \"--first\" if not improvement else \"--best\"\n",
    "    neighbourhood = \"--transpose\" if neighbourhood == 0 else \"--exchange\" if neighbourhood == 1 else \"--insert\"\n",
    "    command = \"./fssp \" + \" \".join([instance, init, improvement, neighbourhood])\n",
    "    output = subprocess.check_output(command, shell=True, stderr=subprocess.DEVNULL)\n",
    "    solution, time = output.decode('utf-8').split('\\n')[:2]\n",
    "    return command, [int(x) for x in solution.split(\" \") if x], int(time)\n"
   ]
  },
  {
   "cell_type": "code",
   "execution_count": 31,
   "metadata": {
    "collapsed": false
   },
   "outputs": [
    {
     "name": "stdout",
     "output_type": "stream",
     "text": [
      "./fssp ../instances/100_20_01 --random-init --first --transpose\n",
      "2469222\n",
      "./fssp ../instances/100_20_01 --random-init --first --exchange\n",
      "1816290\n",
      "./fssp ../instances/100_20_01 --random-init --first --insert\n",
      "1957238\n",
      "./fssp ../instances/100_20_01 --random-init --best --transpose\n",
      "2493326\n",
      "./fssp ../instances/100_20_01 --random-init --best --exchange\n",
      "1845924\n",
      "./fssp ../instances/100_20_01 --random-init --best --insert\n",
      "1983587\n",
      "./fssp ../instances/100_20_01 --srz --first --transpose\n",
      "1861380\n",
      "./fssp ../instances/100_20_01 --srz --first --exchange\n",
      "1841685\n",
      "./fssp ../instances/100_20_01 --srz --first --insert\n",
      "1829427\n",
      "./fssp ../instances/100_20_01 --srz --best --transpose\n",
      "1861380\n",
      "./fssp ../instances/100_20_01 --srz --best --exchange\n",
      "1845234\n",
      "./fssp ../instances/100_20_01 --srz --best --insert\n",
      "1847052\n"
     ]
    }
   ],
   "source": [
    "for init in [0, 1]:\n",
    "    for improvement in [0, 1]:\n",
    "        for neighbourhood in [0, 1, 2]:\n",
    "            command, sol, time = run_fssp(\"../instances/100_20_01\", init, improvement, neighbourhood)\n",
    "            print(command)\n",
    "            print(time)"
   ]
  },
  {
   "cell_type": "code",
   "execution_count": null,
   "metadata": {
    "collapsed": true
   },
   "outputs": [],
   "source": []
  }
 ],
 "metadata": {
  "kernelspec": {
   "display_name": "Python 3",
   "language": "python",
   "name": "python3"
  },
  "language_info": {
   "codemirror_mode": {
    "name": "ipython",
    "version": 3
   },
   "file_extension": ".py",
   "mimetype": "text/x-python",
   "name": "python",
   "nbconvert_exporter": "python",
   "pygments_lexer": "ipython3",
   "version": "3.6.0"
  }
 },
 "nbformat": 4,
 "nbformat_minor": 2
}
