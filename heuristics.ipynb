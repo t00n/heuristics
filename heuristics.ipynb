{
 "cells": [
  {
   "cell_type": "code",
   "execution_count": 286,
   "metadata": {
    "collapsed": false
   },
   "outputs": [],
   "source": [
    "import os\n",
    "import subprocess\n",
    "import time\n",
    "import numpy as np\n",
    "from scipy.stats import wilcoxon, ttest_rel\n",
    "import matplotlib.pyplot as plt\n",
    "\n",
    "%matplotlib inline\n",
    "\n",
    "\n",
    "INSTANCES_DIR = \"instances/\"\n",
    "RESULTS_DIR = \"results/\"\n",
    "\n",
    "def run(args, resultfile):\n",
    "    try:\n",
    "        os.remove(RESULTS_DIR + resultfile)\n",
    "    except FileNotFoundError:\n",
    "        pass\n",
    "    start = time.time()\n",
    "    for dir, dirs, files in os.walk(INSTANCES_DIR):\n",
    "        for file in sorted(files):\n",
    "            sp = subprocess.call([\"./lsscp\", \"--instance\", dir + file, *args], stdout=open(RESULTS_DIR + resultfile, \"a\"))\n",
    "    return time.time() - start\n",
    "\n",
    "def parse(file):\n",
    "    with open(file) as f:\n",
    "        return list(map(int, f.readlines()))\n",
    "    \n",
    "def load_results():\n",
    "    for dir, dirs, files in os.walk(RESULTS_DIR):\n",
    "        for file in files:\n",
    "            name = file[:-4].replace(\"-\", \"_\")\n",
    "            globals()[name] = parse(dir + file)\n",
    "        \n",
    "def percentage_deviation(observed, best):    \n",
    "    assert(len(observed) == len(best))\n",
    "    return list(map(lambda x: (x[0] - x[1])/x[1], zip(observed, best)))\n",
    "\n",
    "def average_percentage_deviation(observed, best):\n",
    "    pd = percentage_deviation(observed, best)\n",
    "    return sum(pd)/len(pd)\n",
    "\n",
    "def fraction_positive(l):\n",
    "    return len(list(filter(lambda x: x > 0, l)))/len(l)\n",
    "\n",
    "def test_improvement(l1, l2):\n",
    "    imp = percentage_deviation(l1, l2)\n",
    "    print(\"Fraction of instances improved : \", fraction_positive(imp))\n",
    "    imp = np.array(imp)\n",
    "    print(imp.mean())\n",
    "    print(imp.std())\n",
    "    print(imp.max())\n",
    "    print(imp.min())\n",
    "    print(wilcoxon(l1, l2))\n",
    "    print(ttest_rel(l1, l2))\n"
   ]
  },
  {
   "cell_type": "code",
   "execution_count": 238,
   "metadata": {
    "collapsed": false,
    "scrolled": false
   },
   "outputs": [
    {
     "name": "stdout",
     "output_type": "stream",
     "text": [
      "1.2258660793304443\n",
      "1.0781300067901611\n",
      "1.063647747039795\n",
      "1.0952129364013672\n",
      "2.7363150119781494\n",
      "1.567612648010254\n",
      "1.54429030418396\n",
      "1.6149070262908936\n",
      "3.492175340652466\n",
      "1.9790546894073486\n",
      "3.315938949584961\n",
      "1.7932422161102295\n",
      "3.6832635402679443\n",
      "2.2700111865997314\n",
      "3.379974126815796\n",
      "1.9239442348480225\n"
     ]
    }
   ],
   "source": [
    "print(run((\"--ch1\",), \"ch1.txt\"))\n",
    "print(run((\"--ch2\",), \"ch2.txt\"))\n",
    "print(run((\"--ch3\",), \"ch3.txt\"))\n",
    "print(run((\"--ch4\",), \"ch4.txt\"))\n",
    "print(run((\"--ch1\", \"--re\"), \"ch1re.txt\"))\n",
    "print(run((\"--ch2\", \"--re\"), \"ch2re.txt\"))\n",
    "print(run((\"--ch3\", \"--re\"), \"ch3re.txt\"))\n",
    "print(run((\"--ch4\", \"--re\"), \"ch4re.txt\"))"
   ]
  },
  {
   "cell_type": "code",
   "execution_count": 244,
   "metadata": {
    "collapsed": false
   },
   "outputs": [],
   "source": [
    "load_results()"
   ]
  },
  {
   "cell_type": "code",
   "execution_count": 214,
   "metadata": {
    "collapsed": false
   },
   "outputs": [
    {
     "name": "stdout",
     "output_type": "stream",
     "text": [
      "35.29621653608673\n",
      "0.27405351611183165\n",
      "0.3016417317840776\n",
      "0.3330589049742115\n",
      "27.81905654265422\n",
      "0.11592208166847057\n",
      "0.14073851429349368\n",
      "0.16536432977731683\n"
     ]
    }
   ],
   "source": [
    "print(average_percentage_deviation(ch1, best_known))\n",
    "print(average_percentage_deviation(ch2, best_known))\n",
    "print(average_percentage_deviation(ch3, best_known))\n",
    "print(average_percentage_deviation(ch4, best_known))\n",
    "print(average_percentage_deviation(ch1re, best_known))\n",
    "print(average_percentage_deviation(ch2re, best_known))\n",
    "print(average_percentage_deviation(ch3re, best_known))\n",
    "print(average_percentage_deviation(ch4re, best_known))"
   ]
  },
  {
   "cell_type": "code",
   "execution_count": 269,
   "metadata": {
    "collapsed": false
   },
   "outputs": [
    {
     "name": "stdout",
     "output_type": "stream",
     "text": [
      "Fraction of instances improved :  1.0\n",
      "0.174084826286\n",
      "0.0846436205028\n",
      "0.470588235294\n",
      "0.0278884462151\n",
      "WilcoxonResult(statistic=0.0, pvalue=1.952613547575738e-42)\n",
      "Ttest_relResult(statistic=8.8120414349883358, pvalue=2.2301312111288087e-16)\n"
     ]
    }
   ],
   "source": [
    "nore = ch1 + ch2 + ch3 + ch4\n",
    "withre = ch1re + ch2re + ch3re + ch4re\n",
    "test_improvement(nore, withre)"
   ]
  },
  {
   "cell_type": "code",
   "execution_count": 239,
   "metadata": {
    "collapsed": false
   },
   "outputs": [
    {
     "name": "stdout",
     "output_type": "stream",
     "text": [
      "3.4966604709625244\n",
      "1.778838872909546\n",
      "3.385441541671753\n",
      "1.8022000789642334\n",
      "3.6401631832122803\n",
      "2.4824776649475098\n",
      "3.4785714149475098\n",
      "2.1651549339294434\n"
     ]
    }
   ],
   "source": [
    "\n",
    "print(run((\"--ch1\", \"--fi\"), \"ch1fi.txt\"))\n",
    "print(run((\"--ch4\", \"--fi\"), \"ch4fi.txt\"))\n",
    "print(run((\"--ch1\", \"--re\", \"--fi\"), \"ch1refi.txt\"))\n",
    "print(run((\"--ch4\", \"--re\", \"--fi\"), \"ch4refi.txt\"))\n",
    "print(run((\"--ch1\", \"--bi\"), \"ch1bi.txt\"))\n",
    "print(run((\"--ch4\", \"--bi\"), \"ch4bi.txt\"))\n",
    "print(run((\"--ch1\", \"--re\", \"--bi\"), \"ch1rebi.txt\"))\n",
    "print(run((\"--ch4\", \"--re\", \"--bi\"), \"ch4rebi.txt\"))"
   ]
  },
  {
   "cell_type": "code",
   "execution_count": 245,
   "metadata": {
    "collapsed": true
   },
   "outputs": [],
   "source": [
    "load_results()"
   ]
  },
  {
   "cell_type": "code",
   "execution_count": 248,
   "metadata": {
    "collapsed": false
   },
   "outputs": [
    {
     "name": "stdout",
     "output_type": "stream",
     "text": [
      "26.474822204359842\n",
      "27.54606859508961\n",
      "0.16375907064262793\n",
      "0.16037146995445006\n",
      "0.3544643065424688\n",
      "26.941379997032307\n",
      "0.13425094055529635\n",
      "0.13138162394302738\n"
     ]
    }
   ],
   "source": [
    "print(average_percentage_deviation(ch1fi, best_known))\n",
    "print(average_percentage_deviation(ch1refi, best_known))\n",
    "print(average_percentage_deviation(ch4fi, best_known))\n",
    "print(average_percentage_deviation(ch4refi, best_known))\n",
    "print(average_percentage_deviation(ch1bi, best_known))\n",
    "print(average_percentage_deviation(ch1rebi, best_known))\n",
    "print(average_percentage_deviation(ch4bi, best_known))\n",
    "print(average_percentage_deviation(ch4rebi, best_known))"
   ]
  },
  {
   "cell_type": "code",
   "execution_count": 271,
   "metadata": {
    "collapsed": false
   },
   "outputs": [
    {
     "name": "stdout",
     "output_type": "stream",
     "text": [
      "Fraction of instances improved :  0.6451612903225806\n",
      "0.117231956842\n",
      "0.133160092\n",
      "0.715223097113\n",
      "0.0\n",
      "WilcoxonResult(statistic=0.0, pvalue=5.2249055180938445e-28)\n",
      "Ttest_relResult(statistic=8.811052031669611, pvalue=2.2451587721065371e-16)\n",
      "Fraction of instances improved :  0.7338709677419355\n",
      "7.53598162079\n",
      "16.4874496356\n",
      "73.4262295082\n",
      "-0.0126582278481\n",
      "WilcoxonResult(statistic=3.0, pvalue=9.222860416103311e-32)\n",
      "Ttest_relResult(statistic=8.7751920585564775, pvalue=2.8631737687536462e-16)\n"
     ]
    }
   ],
   "source": [
    "nothing = ch1 + ch1re + ch4 + ch4re\n",
    "withfi = ch1fi + ch1refi + ch4fi + ch4refi\n",
    "withbi = ch1bi + ch1rebi + ch4bi + ch4rebi\n",
    "test_improvement(nothing, withfi)\n",
    "test_improvement(nothing, withbi)"
   ]
  },
  {
   "cell_type": "code",
   "execution_count": 274,
   "metadata": {
    "collapsed": false
   },
   "outputs": [
    {
     "name": "stdout",
     "output_type": "stream",
     "text": [
      "43.98796629905701\n",
      "31.877827644348145\n"
     ]
    }
   ],
   "source": [
    "print(run((\"--ig\",), \"ig.txt\"))\n",
    "print(run((\"--dls\",), \"dls.txt\"))"
   ]
  },
  {
   "cell_type": "code",
   "execution_count": 275,
   "metadata": {
    "collapsed": true
   },
   "outputs": [],
   "source": [
    "load_results()"
   ]
  },
  {
   "cell_type": "code",
   "execution_count": 282,
   "metadata": {
    "collapsed": false
   },
   "outputs": [
    {
     "name": "stdout",
     "output_type": "stream",
     "text": [
      "[0.19140625, 0.17635658914728683, 0.17611336032388664, 0.072265625, 0.15892857142857142, 0.06046511627906977, 0.1565040650406504, 0.1060842433697348, 0.11462450592885376, 0.11258278145695365, 0.09734513274336283, 0.049586776859504134, 0.09004739336492891, 0.13615023474178403, 0.10921501706484642, 0.1111111111111111, 0.07168458781362007, 0.10869565217391304, 0.0958904109589041, 0.06896551724137931, 0.0916030534351145, 0.08074534161490683, 0.05533596837944664, 0.09126984126984126, 0.1336206896551724, 0.0641025641025641, 0.029661016949152543, 0.14492753623188406, 0.11842105263157894, 0.0625, 0.12658227848101267, 0.013888888888888888, 0.06607929515418502, 0.0958904109589041, 0.11522633744855967, 0.1050228310502283, 0.12093023255813953, 0.08333333333333333, 0.06060606060606061, 0.125, 0.08064516129032258, 0.06557377049180328, 0.034482758620689655, 0.13333333333333333, 0.18518518518518517, 0.17857142857142858, 0.07142857142857142, 0.14285714285714285, 0.2, 0.21428571428571427, 0.14285714285714285, 0.23076923076923078, 0.09659090909090909, 0.08441558441558442, 0.07228915662650602, 0.08928571428571429, 0.09523809523809523, 0.12698412698412698, 0.06349206349206349, 0.13559322033898305, 0.15517241379310345, 0.10909090909090909]\n",
      "[0.169921875, 0.1821705426356589, 0.1862348178137652, 0.08984375, 0.16964285714285715, 0.09069767441860466, 0.16056910569105692, 0.15288611544461778, 0.11462450592885376, 0.12582781456953643, 0.11061946902654868, 0.049586776859504134, 0.0947867298578199, 0.14553990610328638, 0.17406143344709898, 0.14930555555555555, 0.07168458781362007, 0.1956521739130435, 0.10273972602739725, 0.14482758620689656, 0.0916030534351145, 0.09316770186335403, 0.07114624505928854, 0.09523809523809523, 0.13793103448275862, 0.07692307692307693, 0.03389830508474576, 0.14492753623188406, 0.17105263157894737, 0.0875, 0.12658227848101267, 0.013888888888888888, 0.06607929515418502, 0.0958904109589041, 0.1440329218106996, 0.1278538812785388, 0.13488372093023257, 0.1, 0.06060606060606061, 0.125, 0.0967741935483871, 0.08196721311475409, 0.034482758620689655, 0.16666666666666666, 0.25925925925925924, 0.17857142857142858, 0.07142857142857142, 0.21428571428571427, 0.2, 0.21428571428571427, 0.2857142857142857, 0.23076923076923078, 0.10795454545454546, 0.09740259740259741, 0.10240963855421686, 0.09523809523809523, 0.10714285714285714, 0.14285714285714285, 0.06349206349206349, 0.1694915254237288, 0.15517241379310345, 0.10909090909090909]\n"
     ]
    }
   ],
   "source": [
    "print(percentage_deviation(ig, best_known))\n",
    "print(percentage_deviation(dls, best_known))"
   ]
  },
  {
   "cell_type": "code",
   "execution_count": 292,
   "metadata": {
    "collapsed": false
   },
   "outputs": [
    {
     "data": {
      "image/png": "[encoded data removed]",
      "text/plain": [
       "<matplotlib.figure.Figure at 0x7f341259b2b0>"
      ]
     },
     "metadata": {},
     "output_type": "display_data"
    },
    {
     "data": {
      "image/png": "[encoded data removed]",
      "text/plain": [
       "<matplotlib.figure.Figure at 0x7f341240e2e8>"
      ]
     },
     "metadata": {},
     "output_type": "display_data"
    },
    {
     "data": {
      "image/png": "[encoded data removed]",
      "text/plain": [
       "<matplotlib.figure.Figure at 0x7f341236f6a0>"
      ]
     },
     "metadata": {},
     "output_type": "display_data"
    }
   ],
   "source": [
    "plt.scatter(ig, best_known)\n",
    "plt.show()\n",
    "plt.scatter(dls, best_known)\n",
    "plt.show()\n",
    "plt.scatter(ig, dls)\n",
    "plt.show()"
   ]
  },
  {
   "cell_type": "code",
   "execution_count": 293,
   "metadata": {
    "collapsed": false
   },
   "outputs": [
    {
     "name": "stdout",
     "output_type": "stream",
     "text": [
      "Fraction of instances improved :  0.016129032258064516\n",
      "-0.0152920228603\n",
      "0.0220533461621\n",
      "0.0183639398998\n",
      "-0.111111111111\n",
      "WilcoxonResult(statistic=37.0, pvalue=1.9203191048950823e-07)\n",
      "Ttest_relResult(statistic=-4.1581016001533024, pvalue=0.00010193659647135383)\n"
     ]
    }
   ],
   "source": [
    "test_improvement(ig, dls)"
   ]
  },
  {
   "cell_type": "code",
   "execution_count": null,
   "metadata": {
    "collapsed": true
   },
   "outputs": [],
   "source": []
  }
 ],
 "metadata": {
  "kernelspec": {
   "display_name": "Python 3",
   "language": "python",
   "name": "python3"
  },
  "language_info": {
   "codemirror_mode": {
    "name": "ipython",
    "version": 3
   },
   "file_extension": ".py",
   "mimetype": "text/x-python",
   "name": "python",
   "nbconvert_exporter": "python",
   "pygments_lexer": "ipython3",
   "version": "3.5.1"
  }
 },
 "nbformat": 4,
 "nbformat_minor": 0
}
