{
 "cells": [
  {
   "cell_type": "code",
   "execution_count": 331,
   "metadata": {
    "collapsed": false
   },
   "outputs": [],
   "source": [
    "import os\n",
    "import subprocess\n",
    "import time\n",
    "import numpy as np\n",
    "from scipy.stats import wilcoxon, ttest_rel, linregress\n",
    "import matplotlib.pyplot as plt\n",
    "\n",
    "%matplotlib inline\n",
    "\n",
    "\n",
    "INSTANCES_DIR = \"instances/\"\n",
    "RESULTS_DIR = \"results/\"\n",
    "\n",
    "def run_instance(infile, args, outfile=None):\n",
    "    start = time.time()\n",
    "    if not outfile:\n",
    "        outfile = subprocess.PIPE\n",
    "    else:\n",
    "        outfile = open(RESULTS_DIR + outfile, \"a\")\n",
    "    subprocess.call([\"./lsscp\", \"--instance\", INSTANCES_DIR + infile, *args], stdout=outfile)\n",
    "    return time.time() - start\n",
    "        \n",
    "def run(args, resultfile):\n",
    "    try:\n",
    "        os.remove(RESULTS_DIR + resultfile)\n",
    "    except FileNotFoundError:\n",
    "        pass\n",
    "    elapsed_time = 0\n",
    "    for dir, dirs, files in os.walk(INSTANCES_DIR):\n",
    "        for file in sorted(files):\n",
    "            elapsed_time += run_instance(file, args, resultfile)\n",
    "    return elapsed_time\n",
    "\n",
    "def parse(file):\n",
    "    with open(file) as f:\n",
    "        return list(map(int, f.readlines()))\n",
    "    \n",
    "def load_results():\n",
    "    for dir, dirs, files in os.walk(RESULTS_DIR):\n",
    "        for file in files:\n",
    "            name = file[:-4].replace(\"-\", \"_\")\n",
    "            globals()[name] = parse(dir + file)\n",
    "        \n",
    "def percentage_deviation(observed, best):    \n",
    "    assert(len(observed) == len(best))\n",
    "    return list(map(lambda x: (x[0] - x[1])/x[1], zip(observed, best)))\n",
    "\n",
    "def average_percentage_deviation(observed, best):\n",
    "    pd = percentage_deviation(observed, best)\n",
    "    return sum(pd)/len(pd)\n",
    "\n",
    "def relative_percentage_deviation(l1, l2):\n",
    "    assert(len(l1) == len(l2))\n",
    "    return list(map(lambda x: abs((x[0] - x[1])/((x[1] + x[0])/2)), zip(l1, l2)))\n",
    "\n",
    "def fraction_positive(l):\n",
    "    return len(list(filter(lambda x: x > 0, l)))/len(l)\n",
    "\n",
    "def test_improvement(l1, l2):\n",
    "    imp = percentage_deviation(l1, l2)\n",
    "    print(\"Fraction of instances improved : \", fraction_positive(imp))\n",
    "    imp = np.array(imp)\n",
    "    print(imp.mean())\n",
    "    print(imp.std())\n",
    "    print(imp.max())\n",
    "    print(imp.min())\n",
    "    print(wilcoxon(l1, l2))\n",
    "    print(ttest_rel(l1, l2))\n"
   ]
  },
  {
   "cell_type": "code",
   "execution_count": 327,
   "metadata": {
    "collapsed": false,
    "scrolled": false
   },
   "outputs": [
    {
     "name": "stdout",
     "output_type": "stream",
     "text": [
      "2.9387271404266357\n",
      "2.6017112731933594\n",
      "2.963225841522217\n",
      "1.7277860641479492\n",
      "3.0678021907806396\n",
      "2.0156350135803223\n",
      "1.9279801845550537\n",
      "1.8477263450622559\n"
     ]
    }
   ],
   "source": [
    "print(run((\"--ch1\",), \"ch1.txt\"))\n",
    "print(run((\"--ch2\",), \"ch2.txt\"))\n",
    "print(run((\"--ch3\",), \"ch3.txt\"))\n",
    "print(run((\"--ch4\",), \"ch4.txt\"))\n",
    "print(run((\"--ch1\", \"--re\"), \"ch1re.txt\"))\n",
    "print(run((\"--ch2\", \"--re\"), \"ch2re.txt\"))\n",
    "print(run((\"--ch3\", \"--re\"), \"ch3re.txt\"))\n",
    "print(run((\"--ch4\", \"--re\"), \"ch4re.txt\"))"
   ]
  },
  {
   "cell_type": "code",
   "execution_count": 328,
   "metadata": {
    "collapsed": false
   },
   "outputs": [],
   "source": [
    "load_results()"
   ]
  },
  {
   "cell_type": "code",
   "execution_count": 329,
   "metadata": {
    "collapsed": false
   },
   "outputs": [
    {
     "name": "stdout",
     "output_type": "stream",
     "text": [
      "35.29621653608673\n",
      "0.27405351611183165\n",
      "0.3016417317840776\n",
      "0.3330589049742115\n",
      "27.81905654265422\n",
      "0.11592208166847057\n",
      "0.14073851429349368\n",
      "0.16536432977731683\n"
     ]
    }
   ],
   "source": [
    "print(average_percentage_deviation(ch1, best_known))\n",
    "print(average_percentage_deviation(ch2, best_known))\n",
    "print(average_percentage_deviation(ch3, best_known))\n",
    "print(average_percentage_deviation(ch4, best_known))\n",
    "print(average_percentage_deviation(ch1re, best_known))\n",
    "print(average_percentage_deviation(ch2re, best_known))\n",
    "print(average_percentage_deviation(ch3re, best_known))\n",
    "print(average_percentage_deviation(ch4re, best_known))"
   ]
  },
  {
   "cell_type": "code",
   "execution_count": 269,
   "metadata": {
    "collapsed": false
   },
   "outputs": [
    {
     "name": "stdout",
     "output_type": "stream",
     "text": [
      "Fraction of instances improved :  1.0\n",
      "0.174084826286\n",
      "0.0846436205028\n",
      "0.470588235294\n",
      "0.0278884462151\n",
      "WilcoxonResult(statistic=0.0, pvalue=1.952613547575738e-42)\n",
      "Ttest_relResult(statistic=8.8120414349883358, pvalue=2.2301312111288087e-16)\n"
     ]
    }
   ],
   "source": [
    "nore = ch1 + ch2 + ch3 + ch4\n",
    "withre = ch1re + ch2re + ch3re + ch4re\n",
    "test_improvement(nore, withre)"
   ]
  },
  {
   "cell_type": "code",
   "execution_count": 239,
   "metadata": {
    "collapsed": false
   },
   "outputs": [
    {
     "name": "stdout",
     "output_type": "stream",
     "text": [
      "3.4966604709625244\n",
      "1.778838872909546\n",
      "3.385441541671753\n",
      "1.8022000789642334\n",
      "3.6401631832122803\n",
      "2.4824776649475098\n",
      "3.4785714149475098\n",
      "2.1651549339294434\n"
     ]
    }
   ],
   "source": [
    "\n",
    "print(run((\"--ch1\", \"--fi\"), \"ch1fi.txt\"))\n",
    "print(run((\"--ch4\", \"--fi\"), \"ch4fi.txt\"))\n",
    "print(run((\"--ch1\", \"--re\", \"--fi\"), \"ch1refi.txt\"))\n",
    "print(run((\"--ch4\", \"--re\", \"--fi\"), \"ch4refi.txt\"))\n",
    "print(run((\"--ch1\", \"--bi\"), \"ch1bi.txt\"))\n",
    "print(run((\"--ch4\", \"--bi\"), \"ch4bi.txt\"))\n",
    "print(run((\"--ch1\", \"--re\", \"--bi\"), \"ch1rebi.txt\"))\n",
    "print(run((\"--ch4\", \"--re\", \"--bi\"), \"ch4rebi.txt\"))"
   ]
  },
  {
   "cell_type": "code",
   "execution_count": 245,
   "metadata": {
    "collapsed": true
   },
   "outputs": [],
   "source": [
    "load_results()"
   ]
  },
  {
   "cell_type": "code",
   "execution_count": 248,
   "metadata": {
    "collapsed": false
   },
   "outputs": [
    {
     "name": "stdout",
     "output_type": "stream",
     "text": [
      "26.474822204359842\n",
      "27.54606859508961\n",
      "0.16375907064262793\n",
      "0.16037146995445006\n",
      "0.3544643065424688\n",
      "26.941379997032307\n",
      "0.13425094055529635\n",
      "0.13138162394302738\n"
     ]
    }
   ],
   "source": [
    "print(average_percentage_deviation(ch1fi, best_known))\n",
    "print(average_percentage_deviation(ch1refi, best_known))\n",
    "print(average_percentage_deviation(ch4fi, best_known))\n",
    "print(average_percentage_deviation(ch4refi, best_known))\n",
    "print(average_percentage_deviation(ch1bi, best_known))\n",
    "print(average_percentage_deviation(ch1rebi, best_known))\n",
    "print(average_percentage_deviation(ch4bi, best_known))\n",
    "print(average_percentage_deviation(ch4rebi, best_known))"
   ]
  },
  {
   "cell_type": "code",
   "execution_count": 271,
   "metadata": {
    "collapsed": false
   },
   "outputs": [
    {
     "name": "stdout",
     "output_type": "stream",
     "text": [
      "Fraction of instances improved :  0.6451612903225806\n",
      "0.117231956842\n",
      "0.133160092\n",
      "0.715223097113\n",
      "0.0\n",
      "WilcoxonResult(statistic=0.0, pvalue=5.2249055180938445e-28)\n",
      "Ttest_relResult(statistic=8.811052031669611, pvalue=2.2451587721065371e-16)\n",
      "Fraction of instances improved :  0.7338709677419355\n",
      "7.53598162079\n",
      "16.4874496356\n",
      "73.4262295082\n",
      "-0.0126582278481\n",
      "WilcoxonResult(statistic=3.0, pvalue=9.222860416103311e-32)\n",
      "Ttest_relResult(statistic=8.7751920585564775, pvalue=2.8631737687536462e-16)\n"
     ]
    }
   ],
   "source": [
    "nothing = ch1 + ch1re + ch4 + ch4re\n",
    "withfi = ch1fi + ch1refi + ch4fi + ch4refi\n",
    "withbi = ch1bi + ch1rebi + ch4bi + ch4rebi\n",
    "test_improvement(nothing, withfi)\n",
    "test_improvement(nothing, withbi)"
   ]
  },
  {
   "cell_type": "code",
   "execution_count": 295,
   "metadata": {
    "collapsed": false
   },
   "outputs": [
    {
     "name": "stdout",
     "output_type": "stream",
     "text": [
      "43.217150926589966\n",
      "2759.2181079387665\n"
     ]
    }
   ],
   "source": [
    "print(run((\"--ig\",), \"ig.txt\"))\n",
    "print(run((\"--gen\",), \"gen.txt\"))"
   ]
  },
  {
   "cell_type": "code",
   "execution_count": 296,
   "metadata": {
    "collapsed": true
   },
   "outputs": [],
   "source": [
    "load_results()"
   ]
  },
  {
   "cell_type": "code",
   "execution_count": 306,
   "metadata": {
    "collapsed": false
   },
   "outputs": [
    {
     "name": "stdout",
     "output_type": "stream",
     "text": [
      "0.10898244044909508\n",
      "0.06491580206950022\n"
     ]
    }
   ],
   "source": [
    "print(average_percentage_deviation(ig, best_known))\n",
    "print(average_percentage_deviation(gen, best_known))"
   ]
  },
  {
   "cell_type": "code",
   "execution_count": 315,
   "metadata": {
    "collapsed": false
   },
   "outputs": [
    {
     "data": {
      "image/png": "[encoded data removed]",
      "text/plain": [
       "<matplotlib.figure.Figure at 0x7f34123d2630>"
      ]
     },
     "metadata": {},
     "output_type": "display_data"
    }
   ],
   "source": [
    "#plt.scatter(ig, best_known)\n",
    "#plt.show()\n",
    "#plt.scatter(gen, best_known)\n",
    "#plt.show()\n",
    "pderiv_ig = relative_percentage_deviation(ig, best_known)\n",
    "pderiv_gen = relative_percentage_deviation(gen, best_known)\n",
    "correlation = linregress(pderiv_ig, pderiv_gen)\n",
    "plt.plot(pderiv_ig, np.array(pderiv_ig) * correlation.slope + correlation.intercept)\n",
    "plt.scatter(pderiv_ig, pderiv_gen)\n",
    "plt.show()"
   ]
  },
  {
   "cell_type": "code",
   "execution_count": 319,
   "metadata": {
    "collapsed": false
   },
   "outputs": [
    {
     "name": "stdout",
     "output_type": "stream",
     "text": [
      "WilcoxonResult(statistic=2.0, pvalue=8.4121783010067297e-11)\n",
      "Ttest_relResult(statistic=10.159733801527834, pvalue=9.6914945832914006e-15)\n",
      "WilcoxonResult(statistic=0.0, pvalue=7.5023880659126726e-12)\n",
      "WilcoxonResult(statistic=0.0, pvalue=1.0910892918353302e-11)\n"
     ]
    }
   ],
   "source": [
    "print(wilcoxon(pderiv_ig, pderiv_gen))\n",
    "print(ttest_rel(pderiv_ig, pderiv_gen))\n",
    "print(wilcoxon(ig, best_known))\n",
    "print(wilcoxon(gen, best_known))"
   ]
  },
  {
   "cell_type": "code",
   "execution_count": 452,
   "metadata": {
    "collapsed": false
   },
   "outputs": [],
   "source": [
    "def mean_run_time(infile, args):\n",
    "    total = 0\n",
    "    for i in range(25):\n",
    "        total += run_instance(infile, args)\n",
    "    return total/25\n",
    "\n",
    "def run_optimal(infile, algo, outfile, ratio):\n",
    "    mean_fi_time = mean_run_time(infile, (\"--ch4\", \"--fi\"))\n",
    "    try:\n",
    "        os.remove(RESULTS_DIR + outfile)\n",
    "    except FileNotFoundError:\n",
    "        pass\n",
    "    return run_instance(infile, (algo, \"--t\", str(int(mean_fi_time * 1000 * ratio))), outfile)\n",
    "\n",
    "optimal_instances = [\"scpa1\", \"scpb1\", \"scpc1\", \"scpd1\"]\n",
    "\n",
    "def run_all_optimal(algo):\n",
    "    for instance in optimal_instances:\n",
    "        print(run_optimal(instance + \".txt\", \"--\" + algo, instance + \"_\" + algo + \"_opt.txt\", 1000))\n",
    "    load_results()"
   ]
  },
  {
   "cell_type": "markdown",
   "metadata": {},
   "source": [
    "19.00484299659729\n",
    "13.006156206130981\n",
    "19.02070665359497\n",
    "18.004141330718994\n",
    "[257]\n",
    "[74]\n",
    "[238]\n",
    "[61]"
   ]
  },
  {
   "cell_type": "code",
   "execution_count": 447,
   "metadata": {
    "collapsed": false
   },
   "outputs": [
    {
     "name": "stdout",
     "output_type": "stream",
     "text": [
      "16.015981912612915\n",
      "13.006069421768188\n",
      "19.01896047592163\n",
      "18.006484985351562\n",
      "[257]\n",
      "[69]\n",
      "[232]\n",
      "[61]\n"
     ]
    }
   ],
   "source": [
    "run_all_optimal(\"gen\")\n",
    "print(scpa1_gen_opt) # A.1 253 -> 258 -> 255\n",
    "print(scpb1_gen_opt) # B.1 69 -> 71 -> 70\n",
    "print(scpc1_gen_opt) # C.1 227 -> 231 -> 229\n",
    "print(scpd1_gen_opt) # D.1 60 -> 61 -> 60"
   ]
  },
  {
   "cell_type": "code",
   "execution_count": 454,
   "metadata": {
    "collapsed": false
   },
   "outputs": [
    {
     "name": "stdout",
     "output_type": "stream",
     "text": [
      "17.008739471435547\n",
      "15.004058122634888\n",
      "19.00605273246765\n",
      "22.0093994140625\n",
      "[267]\n",
      "[77]\n",
      "[242]\n",
      "[65]\n"
     ]
    }
   ],
   "source": [
    "run_all_optimal(\"ig\")\n",
    "print(scpa1_ig_opt) # A.1 253 -> 258 -> 255\n",
    "print(scpb1_ig_opt) # B.1 69 -> 71 -> 70\n",
    "print(scpc1_ig_opt) # C.1 227 -> 231 -> 229\n",
    "print(scpd1_ig_opt) # D.1 60 -> 61 -> 60"
   ]
  },
  {
   "cell_type": "code",
   "execution_count": null,
   "metadata": {
    "collapsed": true
   },
   "outputs": [],
   "source": []
  }
 ],
 "metadata": {
  "kernelspec": {
   "display_name": "Python 3",
   "language": "python",
   "name": "python3"
  },
  "language_info": {
   "codemirror_mode": {
    "name": "ipython",
    "version": 3
   },
   "file_extension": ".py",
   "mimetype": "text/x-python",
   "name": "python",
   "nbconvert_exporter": "python",
   "pygments_lexer": "ipython3",
   "version": "3.5.1"
  }
 },
 "nbformat": 4,
 "nbformat_minor": 0
}
