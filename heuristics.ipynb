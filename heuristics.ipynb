{
 "cells": [
  {
   "cell_type": "code",
   "execution_count": 3,
   "metadata": {
    "collapsed": false
   },
   "outputs": [],
   "source": [
    "import os\n",
    "import subprocess\n",
    "import time\n",
    "import numpy as np\n",
    "from scipy.stats import wilcoxon, ttest_rel, linregress\n",
    "import matplotlib.pyplot as plt\n",
    "\n",
    "%matplotlib inline\n",
    "\n",
    "\n",
    "INSTANCES_DIR = \"instances/\"\n",
    "RESULTS_DIR = \"results/\"\n",
    "\n",
    "def run_instance(infile, args, outfile=None):\n",
    "    start = time.time()\n",
    "    if not outfile:\n",
    "        outfile = subprocess.PIPE\n",
    "    else:\n",
    "        outfile = open(RESULTS_DIR + outfile, \"a\")\n",
    "    subprocess.call([\"./lsscp\", \"--instance\", INSTANCES_DIR + infile, *args], stdout=outfile)\n",
    "    return time.time() - start\n",
    "        \n",
    "def run_all(args, outfile):\n",
    "    try:\n",
    "        os.remove(RESULTS_DIR + outfile)\n",
    "    except FileNotFoundError:\n",
    "        pass\n",
    "    elapsed_time = 0\n",
    "    for dir, dirs, files in os.walk(INSTANCES_DIR):\n",
    "        for file in sorted(files):\n",
    "            elapsed_time += run_instance(file, args, outfile)\n",
    "    return elapsed_time\n",
    "\n",
    "def mean_run_time(infile, args, n):\n",
    "    total = 0\n",
    "    for i in range(n):\n",
    "        total += run_instance(infile, args)\n",
    "    return total/n\n",
    "\n",
    "def run_instance_with_ratio(infile, algo, outfile, ratio):\n",
    "    mean_fi_time = mean_run_time(infile, (\"--ch4\", \"--fi\"), 25)\n",
    "    return run_instance(infile, (\"--\" + algo, \"--t\", str(int(mean_fi_time * 1000 * ratio))), outfile)\n",
    "\n",
    "def run_all_with_ratio(algo, outfile, ratio):\n",
    "    try:\n",
    "        os.remove(RESULTS_DIR + outfile)\n",
    "    except FileNotFoundError:\n",
    "        pass\n",
    "    elapsed_time = 0\n",
    "    for dir, dirs, files in os.walk(INSTANCES_DIR):\n",
    "        for file in sorted(files):\n",
    "            elapsed_time += run_instance_with_ratio(file, algo, outfile, ratio)\n",
    "    return elapsed_time\n",
    "\n",
    "optimal_instances = [\"scpa1\", \"scpb1\", \"scpc1\", \"scpd1\"]\n",
    "\n",
    "def run_optimal(algo, ratio):\n",
    "    outfile = algo + \"_opt.txt\"\n",
    "    try:\n",
    "        os.remove(RESULTS_DIR + outfile)\n",
    "    except FileNotFoundError:\n",
    "        pass\n",
    "    for instance in optimal_instances:\n",
    "        print(run_instance_with_ratio(instance + \".txt\", algo, outfile, ratio))\n",
    "    load_results()\n",
    "\n",
    "def parse(file):\n",
    "    with open(file) as f:\n",
    "        return list(map(int, f.readlines()))\n",
    "    \n",
    "def load_results():\n",
    "    for dir, dirs, files in os.walk(RESULTS_DIR):\n",
    "        for file in files:\n",
    "            name = file[:-4].replace(\"-\", \"_\")\n",
    "            globals()[name] = parse(dir + file)\n",
    "        \n",
    "def percentage_deviation(observed, best):    \n",
    "    assert(len(observed) == len(best))\n",
    "    return list(map(lambda x: (x[0] - x[1])/x[1], zip(observed, best)))\n",
    "\n",
    "def average_percentage_deviation(observed, best):\n",
    "    pd = percentage_deviation(observed, best)\n",
    "    return sum(pd)/len(pd)\n",
    "\n",
    "def relative_percentage_deviation(l1, l2):\n",
    "    assert(len(l1) == len(l2))\n",
    "    return list(map(lambda x: abs((x[0] - x[1])/((x[1] + x[0])/2)), zip(l1, l2)))\n",
    "\n",
    "def fraction_positive(l):\n",
    "    return len(list(filter(lambda x: x > 0, l)))/len(l)\n",
    "\n",
    "def test_improvement(l1, l2):\n",
    "    imp = percentage_deviation(l1, l2)\n",
    "    print(\"Fraction of instances improved : \", fraction_positive(imp))\n",
    "    imp = np.array(imp)\n",
    "    print(imp.mean())\n",
    "    print(imp.std())\n",
    "    print(imp.max())\n",
    "    print(imp.min())\n",
    "    print(wilcoxon(l1, l2))\n",
    "    print(ttest_rel(l1, l2))\n"
   ]
  },
  {
   "cell_type": "code",
   "execution_count": 4,
   "metadata": {
    "collapsed": false,
    "scrolled": false
   },
   "outputs": [
    {
     "name": "stdout",
     "output_type": "stream",
     "text": [
      "1.0417859554290771\n",
      "1.0291154384613037\n",
      "1.0306289196014404\n",
      "1.0595836639404297\n",
      "2.8413240909576416\n",
      "1.4516983032226562\n",
      "1.4388606548309326\n",
      "1.187140703201294\n"
     ]
    }
   ],
   "source": [
    "print(run_all((\"--ch1\",), \"ch1.txt\"))\n",
    "print(run_all((\"--ch2\",), \"ch2.txt\"))\n",
    "print(run_all((\"--ch3\",), \"ch3.txt\"))\n",
    "print(run_all((\"--ch4\",), \"ch4.txt\"))\n",
    "print(run_all((\"--ch1\", \"--re\"), \"ch1re.txt\"))\n",
    "print(run_all((\"--ch2\", \"--re\"), \"ch2re.txt\"))\n",
    "print(run_all((\"--ch3\", \"--re\"), \"ch3re.txt\"))\n",
    "print(run_all((\"--ch4\", \"--re\"), \"ch4re.txt\"))"
   ]
  },
  {
   "cell_type": "code",
   "execution_count": 5,
   "metadata": {
    "collapsed": false
   },
   "outputs": [],
   "source": [
    "load_results()"
   ]
  },
  {
   "cell_type": "code",
   "execution_count": 6,
   "metadata": {
    "collapsed": false
   },
   "outputs": [
    {
     "name": "stdout",
     "output_type": "stream",
     "text": [
      "35.29621653608673\n",
      "0.27405351611183165\n",
      "0.3016417317840776\n",
      "0.1767634379498829\n",
      "27.81905654265422\n",
      "0.11592208166847057\n",
      "0.14073851429349368\n",
      "0.13197283301819474\n"
     ]
    }
   ],
   "source": [
    "print(average_percentage_deviation(ch1, best_known))\n",
    "print(average_percentage_deviation(ch2, best_known))\n",
    "print(average_percentage_deviation(ch3, best_known))\n",
    "print(average_percentage_deviation(ch4, best_known))\n",
    "print(average_percentage_deviation(ch1re, best_known))\n",
    "print(average_percentage_deviation(ch2re, best_known))\n",
    "print(average_percentage_deviation(ch3re, best_known))\n",
    "print(average_percentage_deviation(ch4re, best_known))"
   ]
  },
  {
   "cell_type": "code",
   "execution_count": 7,
   "metadata": {
    "collapsed": false
   },
   "outputs": [
    {
     "name": "stdout",
     "output_type": "stream",
     "text": [
      "Fraction of instances improved :  0.9798387096774194\n",
      "0.147971704158\n",
      "0.10057283968\n",
      "0.470588235294\n",
      "0.0\n",
      "WilcoxonResult(statistic=0.0, pvalue=1.2814523415056763e-41)\n",
      "Ttest_relResult(statistic=8.5580767136554723, pvalue=1.2346503830430528e-15)\n"
     ]
    }
   ],
   "source": [
    "nore = ch1 + ch2 + ch3 + ch4\n",
    "withre = ch1re + ch2re + ch3re + ch4re\n",
    "test_improvement(nore, withre)"
   ]
  },
  {
   "cell_type": "code",
   "execution_count": 8,
   "metadata": {
    "collapsed": false
   },
   "outputs": [
    {
     "name": "stdout",
     "output_type": "stream",
     "text": [
      "3.266089916229248\n",
      "1.318296194076538\n",
      "3.6412405967712402\n",
      "1.762923240661621\n",
      "3.688572883605957\n",
      "1.5852241516113281\n",
      "3.5458974838256836\n",
      "1.4930973052978516\n"
     ]
    }
   ],
   "source": [
    "print(run_all((\"--ch1\", \"--fi\"), \"ch1fi.txt\"))\n",
    "print(run_all((\"--ch4\", \"--fi\"), \"ch4fi.txt\"))\n",
    "print(run_all((\"--ch1\", \"--re\", \"--fi\"), \"ch1refi.txt\"))\n",
    "print(run_all((\"--ch4\", \"--re\", \"--fi\"), \"ch4refi.txt\"))\n",
    "print(run_all((\"--ch1\", \"--bi\"), \"ch1bi.txt\"))\n",
    "print(run_all((\"--ch4\", \"--bi\"), \"ch4bi.txt\"))\n",
    "print(run_all((\"--ch1\", \"--re\", \"--bi\"), \"ch1rebi.txt\"))\n",
    "print(run_all((\"--ch4\", \"--re\", \"--bi\"), \"ch4rebi.txt\"))"
   ]
  },
  {
   "cell_type": "code",
   "execution_count": 9,
   "metadata": {
    "collapsed": true
   },
   "outputs": [],
   "source": [
    "load_results()"
   ]
  },
  {
   "cell_type": "code",
   "execution_count": 10,
   "metadata": {
    "collapsed": false
   },
   "outputs": [
    {
     "name": "stdout",
     "output_type": "stream",
     "text": [
      "26.474933439065072\n",
      "27.53480266030842\n",
      "0.13006999602368838\n",
      "0.12505620494919842\n",
      "0.3316475551888148\n",
      "26.957711390139718\n",
      "0.08707997163917548\n",
      "0.09924646850675854\n"
     ]
    }
   ],
   "source": [
    "print(average_percentage_deviation(ch1fi, best_known))\n",
    "print(average_percentage_deviation(ch1refi, best_known))\n",
    "print(average_percentage_deviation(ch4fi, best_known))\n",
    "print(average_percentage_deviation(ch4refi, best_known))\n",
    "print(average_percentage_deviation(ch1bi, best_known))\n",
    "print(average_percentage_deviation(ch1rebi, best_known))\n",
    "print(average_percentage_deviation(ch4bi, best_known))\n",
    "print(average_percentage_deviation(ch4rebi, best_known))"
   ]
  },
  {
   "cell_type": "code",
   "execution_count": 11,
   "metadata": {
    "collapsed": false
   },
   "outputs": [
    {
     "name": "stdout",
     "output_type": "stream",
     "text": [
      "Fraction of instances improved :  0.6451612903225806\n",
      "0.091904539658\n",
      "0.13249853207\n",
      "0.715223097113\n",
      "0.0\n",
      "WilcoxonResult(statistic=0.0, pvalue=5.1681488905994952e-28)\n",
      "Ttest_relResult(statistic=8.6181952532634547, pvalue=8.252989893319208e-16)\n",
      "Fraction of instances improved :  0.7258064516129032\n",
      "7.56904281965\n",
      "16.5287532326\n",
      "73.4262295082\n",
      "-0.117647058824\n",
      "WilcoxonResult(statistic=33.0, pvalue=1.0266751909277341e-31)\n",
      "Ttest_relResult(statistic=8.7035652188198576, pvalue=4.646515659184309e-16)\n",
      "Fraction of instances improved :  0.6774193548387096\n",
      "5.66356672141\n",
      "12.2925930918\n",
      "57.0\n",
      "-0.117647058824\n",
      "WilcoxonResult(statistic=71.0, pvalue=6.0141840973467213e-30)\n",
      "Ttest_relResult(statistic=8.6721876373528417, pvalue=5.7407709530443916e-16)\n"
     ]
    }
   ],
   "source": [
    "nothing = ch1 + ch1re + ch4 + ch4re\n",
    "withfi = ch1fi + ch1refi + ch4fi + ch4refi\n",
    "withbi = ch1bi + ch1rebi + ch4bi + ch4rebi\n",
    "test_improvement(nothing, withfi)\n",
    "test_improvement(nothing, withbi)\n",
    "test_improvement(withfi, withbi)"
   ]
  },
  {
   "cell_type": "code",
   "execution_count": 13,
   "metadata": {
    "collapsed": false
   },
   "outputs": [
    {
     "name": "stdout",
     "output_type": "stream",
     "text": [
      "162.76604533195496\n",
      "1513.7594544887543\n"
     ]
    }
   ],
   "source": [
    "print(run_all_with_ratio(\"ig\", \"ig.txt\", 100))\n",
    "print(run_all_with_ratio(\"gen\", \"gen.txt\", 100))"
   ]
  },
  {
   "cell_type": "code",
   "execution_count": 14,
   "metadata": {
    "collapsed": false
   },
   "outputs": [
    {
     "name": "stdout",
     "output_type": "stream",
     "text": [
      "0.08707997163917548\n",
      "0.06391166853212994\n"
     ]
    }
   ],
   "source": [
    "load_results()\n",
    "print(average_percentage_deviation(ig, best_known))\n",
    "print(average_percentage_deviation(gen, best_known))"
   ]
  },
  {
   "cell_type": "code",
   "execution_count": 23,
   "metadata": {
    "collapsed": false
   },
   "outputs": [
    {
     "data": {
      "image/png": "[encoded data removed]",
      "text/plain": [
       "<matplotlib.figure.Figure at 0x7fe0eb8a37f0>"
      ]
     },
     "metadata": {},
     "output_type": "display_data"
    },
    {
     "data": {
      "image/png": "[encoded data removed]",
      "text/plain": [
       "<matplotlib.figure.Figure at 0x7fe0eb88bcf8>"
      ]
     },
     "metadata": {},
     "output_type": "display_data"
    }
   ],
   "source": [
    "#plt.scatter(ig, best_known)\n",
    "#plt.show()\n",
    "#plt.scatter(gen, best_known)\n",
    "#plt.show()\n",
    "pderiv_ig = relative_percentage_deviation(ig, best_known)\n",
    "pderiv_gen = relative_percentage_deviation(gen, best_known)\n",
    "correlation = linregress(pderiv_ig, best_known)\n",
    "plt.title(\"Correlation plot relative percentage deviation between iterative greedy algorithm and best known solutions\")\n",
    "plt.plot(pderiv_ig, np.array(pderiv_ig) * correlation.slope + correlation.intercept)\n",
    "plt.scatter(pderiv_ig, best_known)\n",
    "plt.show()\n",
    "correlation = linregress(pderiv_gen, best_known)\n",
    "plt.title(\"Correlation plot relative percentage deviation between genetic algorithm and best known solutions\")\n",
    "plt.plot(pderiv_gen, np.array(pderiv_gen) * correlation.slope + correlation.intercept)\n",
    "plt.scatter(pderiv_gen, best_known)\n",
    "plt.show()"
   ]
  },
  {
   "cell_type": "code",
   "execution_count": 16,
   "metadata": {
    "collapsed": false
   },
   "outputs": [
    {
     "name": "stdout",
     "output_type": "stream",
     "text": [
      "WilcoxonResult(statistic=446.0, pvalue=0.0015218128402173954)\n",
      "Ttest_relResult(statistic=3.4640503365351822, pvalue=0.00097927503490302702)\n",
      "WilcoxonResult(statistic=0.0, pvalue=7.4474030892037171e-12)\n",
      "WilcoxonResult(statistic=0.0, pvalue=1.5813760408905017e-11)\n"
     ]
    }
   ],
   "source": [
    "print(wilcoxon(pderiv_ig, pderiv_gen))\n",
    "print(ttest_rel(pderiv_ig, pderiv_gen))\n",
    "print(wilcoxon(ig, best_known))\n",
    "print(wilcoxon(gen, best_known))"
   ]
  },
  {
   "cell_type": "markdown",
   "metadata": {},
   "source": [
    "19.00484299659729\n",
    "13.006156206130981\n",
    "19.02070665359497\n",
    "18.004141330718994\n",
    "[257]\n",
    "[74]\n",
    "[238]\n",
    "[61]"
   ]
  },
  {
   "cell_type": "code",
   "execution_count": 18,
   "metadata": {
    "collapsed": false
   },
   "outputs": [
    {
     "name": "stdout",
     "output_type": "stream",
     "text": [
      "11.444749593734741\n",
      "12.9664146900177\n",
      "18.01086401939392\n",
      "21.693324327468872\n",
      "[258]\n",
      "[78]\n",
      "[234]\n",
      "[61]\n"
     ]
    }
   ],
   "source": [
    "run_optimal(\"gen\", 1000)\n",
    "print(scpa1_gen_opt) # A.1 253 -> 258 -> 255\n",
    "print(scpb1_gen_opt) # B.1 69 -> 71 -> 70\n",
    "print(scpc1_gen_opt) # C.1 227 -> 231 -> 229\n",
    "print(scpd1_gen_opt) # D.1 60 -> 61 -> 60"
   ]
  },
  {
   "cell_type": "code",
   "execution_count": 30,
   "metadata": {
    "collapsed": false
   },
   "outputs": [
    {
     "name": "stdout",
     "output_type": "stream",
     "text": [
      "0.0714794710173948\n",
      "0.048324003296709675\n",
      "0.02168807491910809\n"
     ]
    }
   ],
   "source": [
    "print(average_percentage_deviation(ig_opt, [253, 69, 227, 60]))\n",
    "print(average_percentage_deviation(gen_opt, [253, 69, 227, 60]))\n",
    "print(average_percentage_deviation(ig_opt, gen_opt))"
   ]
  },
  {
   "cell_type": "code",
   "execution_count": 19,
   "metadata": {
    "collapsed": false
   },
   "outputs": [
    {
     "name": "stdout",
     "output_type": "stream",
     "text": [
      "10.002309083938599\n",
      "10.003480672836304\n",
      "14.007994890213013\n",
      "15.004057168960571\n",
      "[272]\n",
      "[81]\n",
      "[235]\n",
      "[63]\n"
     ]
    }
   ],
   "source": [
    "run_optimal(\"ig\", 1000)\n",
    "print(scpa1_ig_opt) # A.1 253 -> 258 -> 255\n",
    "print(scpb1_ig_opt) # B.1 69 -> 71 -> 70\n",
    "print(scpc1_ig_opt) # C.1 227 -> 231 -> 229\n",
    "print(scpd1_ig_opt) # D.1 60 -> 61 -> 60"
   ]
  },
  {
   "cell_type": "code",
   "execution_count": null,
   "metadata": {
    "collapsed": false
   },
   "outputs": [],
   "source": [
    "18.00645875930786\n",
    "15.004149198532104\n",
    "20.091147422790527\n",
    "19.00425124168396\n",
    "[271]\n",
    "[79]\n",
    "[243]\n",
    "[65]"
   ]
  }
 ],
 "metadata": {
  "kernelspec": {
   "display_name": "Python 3",
   "language": "python",
   "name": "python3"
  }
 },
 "nbformat": 4,
 "nbformat_minor": 0
}
